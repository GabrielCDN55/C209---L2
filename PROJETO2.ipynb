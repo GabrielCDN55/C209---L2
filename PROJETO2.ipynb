{
 "cells": [
  {
   "cell_type": "markdown",
   "metadata": {},
   "source": [
    "# PROJETO 2 - C209 - L2\n",
    "\n",
    "* Nome: Gabriel Lopes Silva\n",
    "* Matricula: 2043\n",
    "* Curso: GEC"
   ]
  },
  {
   "cell_type": "markdown",
   "metadata": {},
   "source": [
    "## PASSO 1: Carregamento do vídeo original"
   ]
  },
  {
   "cell_type": "code",
   "execution_count": null,
   "metadata": {},
   "outputs": [],
   "source": [
    "import moviepy.editor as mpe\n",
    "import numpy as np\n",
    "video = mpe.VideoFileClip(\"Video_Inicial_novo.mp4\")\n",
    "video.ipython_display(width=480, maxduration=120)"
   ]
  },
  {
   "cell_type": "markdown",
   "metadata": {},
   "source": [
    "## PASSO 2: Inverter a imagem a cada 20 segundos\n",
    "\n",
    "* Para execução desse passo foi criada uma função que faz esse processo de inversão"
   ]
  },
  {
   "cell_type": "code",
   "execution_count": null,
   "metadata": {},
   "outputs": [],
   "source": [
    "def inverter_imagem(clip, interval=20):\n",
    "    def invert_frame(get_frame, t):\n",
    "        frame = get_frame(t)\n",
    "        #Inversão da imagem a cada 20 segundos\n",
    "        if (int(t) // interval) % 2 == 1:\n",
    "            return frame[:, ::-1] #Fazendo a inversão\n",
    "        else:\n",
    "            return frame \n",
    "    return clip.fl(lambda gf, t: invert_frame(gf, t))\n",
    "\n",
    "video_invertido = inverter_imagem(video)\n",
    "video_invertido.ipython_display(width=480, maxduration=120)"
   ]
  },
  {
   "cell_type": "markdown",
   "metadata": {},
   "source": [
    "## PASSO 3: Diminuir o som a cada 30 segundos\n",
    "\n",
    "* Para execução desse passo foi criada uma função que diminui o audio do video"
   ]
  },
  {
   "cell_type": "code",
   "execution_count": null,
   "metadata": {},
   "outputs": [],
   "source": [
    "def diminuir(audio, t):\n",
    "    duracao_total_video = video.duration #Duração total do video\n",
    "    intervalo = 30 #intervalo de dinuição gradual\n",
    "    tempo_restante_video = duracao_total_video - t  #coletando a informação do tempo restante de video\n",
    "\n",
    "    if tempo_restante_video <= 10:\n",
    "        volume = 0 #volume zerado nos últimos 10 segundos\n",
    "    else:\n",
    "        intervalo_relativo = t % intervalo\n",
    "        volume = 1 - (intervalo_relativo / intervalo)  #diminuindo o volume\n",
    "\n",
    "    frame = audio(t)\n",
    "    frame[:, 0] *= volume\n",
    "    frame[:, 1] *= volume\n",
    "    \n",
    "    return frame\n",
    "\n",
    "audio_decrease = video_invertido.audio.fl(diminuir)\n",
    "video_audio_decrease = video_invertido.set_audio(audio_decrease)\n",
    "video_audio_decrease.ipython_display(width=480, maxduration=120)"
   ]
  },
  {
   "cell_type": "markdown",
   "metadata": {},
   "source": [
    "## PASSO 4: Após o primeiro minuto, 60 segundos, fazer um corte para o segundo 80, inserindo os 20 segundos cortados no final do video\n",
    "\n",
    "* Para execução desse passo foi extraido do video a informação contida entre 60 e 80 segundos"
   ]
  },
  {
   "cell_type": "code",
   "execution_count": null,
   "metadata": {},
   "outputs": [],
   "source": [
    "part_1 = video_audio_decrease.subclip(0, 60)\n",
    "part_2 = video_audio_decrease.subclip(60, 80)\n",
    "part_3 = video_audio_decrease.subclip(80)\n",
    "\n",
    "video_final = mpe.concatenate_videoclips([part_1, part_3, part_2])\n",
    "video_final.write_videofile('Video_Final.mp4')\n",
    "video_final.ipython_display(width=480, maxduration=120)"
   ]
  }
 ],
 "metadata": {
  "kernelspec": {
   "display_name": "Python 3",
   "language": "python",
   "name": "python3"
  },
  "language_info": {
   "codemirror_mode": {
    "name": "ipython",
    "version": 3
   },
   "file_extension": ".py",
   "mimetype": "text/x-python",
   "name": "python",
   "nbconvert_exporter": "python",
   "pygments_lexer": "ipython3",
   "version": "3.10.0"
  }
 },
 "nbformat": 4,
 "nbformat_minor": 2
}
